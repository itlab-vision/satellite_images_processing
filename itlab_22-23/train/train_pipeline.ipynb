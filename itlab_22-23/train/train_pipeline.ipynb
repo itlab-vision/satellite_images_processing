{
 "cells": [
  {
   "cell_type": "raw",
   "metadata": {
    "colab": {
     "base_uri": "https://localhost:8080/"
    },
    "executionInfo": {
     "elapsed": 20139,
     "status": "ok",
     "timestamp": 1682795560573,
     "user": {
      "displayName": "Aleksei Ivanchenko",
      "userId": "08170798653477468168"
     },
     "user_tz": -180
    },
    "id": "N2CLfHwflO_z",
    "outputId": "338721d8-6150-44ef-89d3-82d2bf44efbb"
   },
   "source": [
    "# for google collab\n",
    "from google.colab import drive\n",
    "drive.mount('/content/drive')"
   ]
  },
  {
   "cell_type": "raw",
   "metadata": {
    "id": "8yvMty7UlPkr"
   },
   "source": [
    "# paths\n",
    "\n",
    "import os\n",
    "\n",
    "# your project directory\n",
    "project_dir = '/content/drive/MyDrive/Colab Notebooks/fire/' \n",
    "'''\n",
    "project_dir\n",
    " |\n",
    " | -- fire.ipynb\n",
    " |\n",
    " | -- dataset\n",
    " |     | -- patches\n",
    " |          | -- folder1 \n",
    " |          | -- ...\n",
    " |     | -- masks\n",
    " |          | -- folder1 \n",
    " |          | -- ...\n",
    " |\n",
    " | -- predictions\n",
    " |     | -- hh-mm-ss\n",
    " |          | -- image.png\n",
    " |          | -- mask.png\n",
    " |          | -- predict.png      \n",
    " |     | -- ...\n",
    " \n",
    "   \n",
    "'''\n",
    "# zip paths\n",
    "\n",
    "# zip paths\n",
    "ds_zip = os.path.join(project_dir, 'picked.zip')\n",
    "ds_patches_zip = os.path.join(project_dir, 'patches.zip')\n",
    "ds_masks_zip = os.path.join(project_dir, 'masks.zip')\n",
    "\n",
    "# project paths\n",
    "save_path = os.path.join(project_dir, 'model.h5') # path for saving model\n",
    "search_path = os.path.join(project_dir, 'hp_search.h5') # best during hp search\n",
    "saved_images = os.path.join(project_dir, 'predictions') # save all images here\n",
    "patches_dir = os.path.join(project_dir, 'dataset','patches')\n",
    "masks_dir = os.path.join(project_dir, 'dataset','masks')\n",
    "\n",
    "# create directories\n",
    "os.makedirs(saved_images, exist_ok=True)\n",
    "os.makedirs(patches_dir, exist_ok=True)\n",
    "os.makedirs(masks_dir, exist_ok=True)"
   ]
  },
  {
   "cell_type": "raw",
   "metadata": {
    "colab": {
     "base_uri": "https://localhost:8080/"
    },
    "executionInfo": {
     "elapsed": 31897,
     "status": "ok",
     "timestamp": 1682795594265,
     "user": {
      "displayName": "Aleksei Ivanchenko",
      "userId": "08170798653477468168"
     },
     "user_tz": -180
    },
    "id": "UqiDRFc8lS65",
    "outputId": "69c48269-fea1-4358-e7d3-b7c69a99323f"
   },
   "source": [
    "# installing\n",
    "\n",
    "# Segmentation Models: using `keras` framework.\n",
    "!pip install segmentation-models\n",
    "%env SM_FRAMEWORK=tf.keras\n",
    "# Using keras tuner for hyperparams search\n",
    "!pip install keras-tuner -q\n",
    "# Using optimizers from tensorwlof addons\n",
    "!pip install tensorflow-addons\n",
    "# Using rasterio to open hyperspectral images\n",
    "!pip install spectral imageio"
   ]
  },
  {
   "cell_type": "raw",
   "metadata": {
    "colab": {
     "base_uri": "https://localhost:8080/"
    },
    "executionInfo": {
     "elapsed": 5650,
     "status": "ok",
     "timestamp": 1682795599911,
     "user": {
      "displayName": "Aleksei Ivanchenko",
      "userId": "08170798653477468168"
     },
     "user_tz": -180
    },
    "id": "sNYzFMudlVfO",
    "outputId": "afd1f5fd-710c-4f46-ccd6-c61f33bdb642"
   },
   "source": [
    "# most used imports\n",
    "\n",
    "import os\n",
    "import tensorflow as tf\n",
    "import keras\n",
    "import segmentation_models as sm\n",
    "from keras.utils import load_img\n",
    "import numpy as np\n",
    "import imageio\n",
    "from glob import glob\n",
    "import math\n",
    "from random import randint\n",
    "from skimage.transform import rotate,rescale, resize\n",
    "import matplotlib.pyplot as plt"
   ]
  },
  {
   "cell_type": "raw",
   "metadata": {
    "id": "tkTw2vG188ID"
   },
   "source": [
    "# delete all unzipped files\n",
    "\n",
    "def remove_all_files(dir):\n",
    "  paths = glob(dir + '/**/*.*', recursive=True)\n",
    "  for filename in paths:\n",
    "    os.remove(filename)\n",
    "\n",
    "remove_all_files(patches_dir)\n",
    "remove_all_files(masks_dir)"
   ]
  },
  {
   "cell_type": "raw",
   "metadata": {
    "colab": {
     "base_uri": "https://localhost:8080/"
    },
    "executionInfo": {
     "elapsed": 4580,
     "status": "ok",
     "timestamp": 1682440733419,
     "user": {
      "displayName": "Aleksei Ivanchenko",
      "userId": "08170798653477468168"
     },
     "user_tz": -180
    },
    "id": "fhLuIlp_L7b1",
    "outputId": "36ae0771-5586-4de3-ffec-0e08093060e5"
   },
   "source": [
    "# unzip dataset\n",
    "\n",
    "from zipfile import ZipFile\n",
    "from glob import glob\n",
    "\n",
    "with ZipFile(ds_zip, 'r') as zip_file:\n",
    "    zip_file.extractall(project_dir)\n",
    "\n",
    "with ZipFile(ds_masks_zip, 'r') as zip_file:\n",
    "    zip_file.extractall(masks_dir)\n",
    "    print([text_file.filename for text_file in zip_file.infolist() ])\n",
    "\n",
    "with ZipFile(ds_patches_zip, 'r') as zip_file:\n",
    "    zip_file.extractall(patches_dir)\n",
    "    print([text_file.filename for text_file in zip_file.infolist() ])\n",
    "\n",
    "os.remove(ds_patches_zip)\n",
    "os.remove(ds_masks_zip)"
   ]
  },
  {
   "cell_type": "raw",
   "metadata": {
    "id": "QBcQv3uVNIio"
   },
   "source": [
    "Here we use ***channel last*** format  \n",
    "image is a tensor with (H, W, C) shape, where C is a number of channels, H and W are image height and width.  \n",
    "  \n",
    "But rasterio opens image in ***channel first*** format, so you need to do `.transpose((1, 2, 0))`"
   ]
  },
  {
   "cell_type": "raw",
   "metadata": {
    "colab": {
     "base_uri": "https://localhost:8080/"
    },
    "executionInfo": {
     "elapsed": 3989,
     "status": "ok",
     "timestamp": 1682490495881,
     "user": {
      "displayName": "Aleksei Ivanchenko",
      "userId": "08170798653477468168"
     },
     "user_tz": -180
    },
    "id": "CWzhXvU4gbfx",
    "outputId": "b2e11ff1-c7a4-4e10-e4d3-a3cd4b6c323b"
   },
   "source": [
    "# get paths\n",
    "\n",
    "from glob import glob\n",
    "\n",
    "patches = glob(patches_dir + '/**/*.tif', recursive=True)\n",
    "masks = glob(masks_dir + '/**/*.tif', recursive=True)\n",
    "\n",
    "patches.sort()\n",
    "masks.sort()\n",
    "print('{0} patches and {1} masks were found'.format(len(patches), len(masks)))\n",
    "\n",
    "annotated = list()\n",
    "annotation = list()\n",
    "for patch in patches:\n",
    "  name = patch[-10:]\n",
    "  matched = filter(lambda x: name in x, masks)\n",
    "  matched = list(matched)\n",
    "  try:    \n",
    "    mask = matched[0]\n",
    "    annotation.append(mask)\n",
    "    annotated.append(patch)\n",
    "  except Exception as e:\n",
    "    print(\"Exception {0} while searching for matched masks for patch {1}\".format(e, patch))\n",
    "\n",
    "patches = annotated\n",
    "masks = annotation"
   ]
  },
  {
   "cell_type": "raw",
   "metadata": {
    "colab": {
     "base_uri": "https://localhost:8080/",
     "height": 1000
    },
    "executionInfo": {
     "elapsed": 2081,
     "status": "ok",
     "timestamp": 1681237118552,
     "user": {
      "displayName": "Aleksei Ivanchenko",
      "userId": "08170798653477468168"
     },
     "user_tz": -180
    },
    "id": "Pb6okg3IflzN",
    "outputId": "1f42f334-17bd-48b6-afbb-0531a54381bf"
   },
   "source": [
    "# view some images from dataset\n",
    "for i in range (64, 65):\n",
    "  x = imageio.imread(os.path.join(patches_dir, patches[i]))    \n",
    "  x = np.asarray(x).astype('float32')/MAX_PIXEL_VALUE\n",
    "  y = imageio.imread(os.path.join(masks_dir, masks[i]))  \n",
    "  y = np.asarray(y).astype('float32')\n",
    "  x = x.transpose(2, 0, 1)\n",
    "  rgb_image = np.array([x[6], x[5], x[1]]).transpose((1, 2, 0))\n",
    "\n",
    "  print(patches[i])\n",
    "  plt.title('image')\n",
    "  plt.imshow(rgb_image)\n",
    "  plt.show()\n",
    "  print(masks[i])\n",
    "  plt.title('mask')\n",
    "  plt.imshow(y)\n",
    "  plt.show()\n"
   ]
  },
  {
   "cell_type": "raw",
   "metadata": {
    "colab": {
     "base_uri": "https://localhost:8080/"
    },
    "executionInfo": {
     "elapsed": 59853,
     "status": "ok",
     "timestamp": 1682490555730,
     "user": {
      "displayName": "Aleksei Ivanchenko",
      "userId": "08170798653477468168"
     },
     "user_tz": -180
    },
    "id": "LO2Bn31o6jp0",
    "outputId": "58b1eb0a-4a51-4060-9107-27e6ec1be2cf"
   },
   "source": [
    "# open images\n",
    "\n",
    "max_ds_size = 500\n",
    "ds_size = min(max_ds_size, min(len(patches), len(masks)))\n",
    "print('final dataset length: {0}'.format(ds_size))\n",
    "print('validation split = 0.2')\n",
    "\n",
    "channels = 5\n",
    "\n",
    "# normalization layer\n",
    "normalization = keras.layers.Normalization(axis=1)\n",
    "adapt_data = np.empty(shape=(ds_size, 256, 256, channels), dtype=np.float32)\n",
    "for i in range(ds_size):\n",
    "  x = imageio.imread(patches[i])   \n",
    "  x = np.asarray(x).astype('float32')\n",
    "  x = x.transpose((2, 0, 1))\n",
    "  x = np.array([x[1], x[2], x[3], x[4], x[5]])\n",
    "  x = x.transpose((1, 2, 0))\n",
    "  adapt_data[i] = x\n",
    "normalization.adapt(adapt_data, batch_size=100, steps=ds_size)\n",
    "adapt_data = 0\n",
    "# open and normalize \n",
    "train_x = list()\n",
    "train_y = list()\n",
    "val_x = list()\n",
    "val_y = list()\n",
    "for i in range(ds_size):\n",
    "  x = imageio.imread(patches[i])\n",
    "  x = np.asarray(x).astype('float32')\n",
    "  x = x.transpose((2, 0, 1))\n",
    "  x = np.array([x[1], x[2], x[3], x[4], x[5]])\n",
    "  x = x.transpose((1, 2, 0))\n",
    "  x = normalization(x).numpy()[0]\n",
    "  y = imageio.imread(masks[i]) \n",
    "  y = np.asarray(y).astype('float32')\n",
    "  if(i % 5 == 0):\n",
    "    val_x.append(x)\n",
    "    val_y.append(y)\n",
    "  else:\n",
    "    train_x.append(x)\n",
    "    train_y.append(y)\n",
    "\n"
   ]
  },
  {
   "cell_type": "raw",
   "metadata": {
    "id": "6Ag7xDKhD3lk"
   },
   "source": [
    "def augmentation(image, mask):\n",
    "  if randint(0,1) == 1:\n",
    "    image = np.fliplr(image)\n",
    "    mask = np.fliplr(mask)\n",
    "  if randint(0,1) == 1:\n",
    "    image = np.flipud(image)\n",
    "    mask = np.flipud(mask)\n",
    "  angle = randint(-45, 45)\n",
    "  image = rotate(image, angle, mode='symmetric')\n",
    "  mask = rotate(mask, angle, mode='symmetric')\n",
    "  return image, mask\n",
    "\n",
    "\n",
    "class DataGenerator(tf.keras.utils.Sequence):\n",
    "\n",
    "    def __init__(self, x_set, y_set, batch_size, augmentation=False, shuffle=True):\n",
    "        self.x, self.y = x_set, y_set\n",
    "        self.batch_size = batch_size\n",
    "        self.shuffle = shuffle  \n",
    "        self.index = 0      \n",
    "        self.on_epoch_end()\n",
    "\n",
    "    def on_epoch_end(self):\n",
    "        '''\n",
    "        # good shuffle\n",
    "        self.index = np.arange(len(self.indices))\n",
    "        if self.shuffle == True:\n",
    "            np.random.shuffle(self.index)\n",
    "        '''\n",
    "        # my shuffle\n",
    "        index = randint(0, len(self) - 1)\n",
    "\n",
    "\n",
    "    def __len__(self):\n",
    "        return math.ceil(len(self.x) / self.batch_size)\n",
    "\n",
    "    def __getitem__(self, index):\n",
    "        batch_x = np.array(self.x[index * self.batch_size:(index + 1) *\n",
    "        self.batch_size])\n",
    "        batch_y = np.array(self.y[index * self.batch_size:(index + 1) *\n",
    "        self.batch_size])\n",
    "        if(augmentation):\n",
    "          for x, y in zip(batch_x, batch_y):\n",
    "            x, y = augmentation(x, y)\n",
    "        return (batch_x, batch_y)\n",
    "\n",
    "    def __next__(self):\n",
    "        self.index +=1\n",
    "        if(self.index >= len(self)):\n",
    "          self.index = 0 \n",
    "        return self[self.index]\n",
    "\n",
    "batch_size = 8\n",
    "val_split = 0.2\n",
    "\n",
    "train_generator = DataGenerator(train_x, train_y, batch_size, augmentation=True)\n",
    "val_generator = DataGenerator(val_x, val_y, batch_size, augmentation=False)\n",
    "\n",
    "# steps in model.fit()\n",
    "steps = math.ceil(len(train_generator))\n",
    "val_steps = math.ceil(len(val_generator))\n"
   ]
  },
  {
   "cell_type": "raw",
   "metadata": {
    "colab": {
     "base_uri": "https://localhost:8080/",
     "height": 1000,
     "output_embedded_package_id": "1jw_IxvwnkZ1N43cw13PxC2Vd6obPF_Co"
    },
    "executionInfo": {
     "elapsed": 8439,
     "status": "ok",
     "timestamp": 1681237257375,
     "user": {
      "displayName": "Aleksei Ivanchenko",
      "userId": "08170798653477468168"
     },
     "user_tz": -180
    },
    "id": "uEmN1x5MlA9c",
    "outputId": "70e4e3aa-df34-416d-d030-0285b55a1bd4"
   },
   "source": [
    "# view some images from generator with augmentation\n",
    "for i in range(1):\n",
    "  images, masks = next(train_generator)\n",
    "  for j in range(batch_size):\n",
    "    image, mask = images[j], masks[j]\n",
    "    \n",
    "    image = image.transpose(2, 0, 1)\n",
    "    rgb_image = np.array([image[6], image[5], image[1]]).transpose((1, 2, 0))\n",
    "\n",
    "    plt.title('image')\n",
    "    plt.imshow(rgb_image)\n",
    "    plt.show()\n",
    "    plt.title('mask')\n",
    "    plt.imshow(mask)\n",
    "    plt.show()\n",
    "    "
   ]
  },
  {
   "cell_type": "raw",
   "metadata": {
    "colab": {
     "base_uri": "https://localhost:8080/"
    },
    "id": "Tw88uL0E-nn0",
    "outputId": "4eab624c-5220-4c28-bc1c-42bf2050a784"
   },
   "source": [
    "# hyperparameter search\n",
    "from tensorflow import keras\n",
    "from keras.optimizers import Adam\n",
    "from tensorflow.keras.optimizers.experimental import AdamW, Adagrad\n",
    "from tensorflow_addons.optimizers import NovoGrad\n",
    "\n",
    "import keras_tuner\n",
    "\n",
    "def build_model(hp):\n",
    "  # сверточная основа\n",
    "  BACKBONE = hp.Choice('model', values=['resnet50', 'resnet101', 'resnet152']) \n",
    "\n",
    "  # модель - Unet\n",
    "  model = sm.Unet(BACKBONE,\n",
    "                    classes = 1,\n",
    "                    encoder_weights=None,\n",
    "                    input_shape=(None, None, 10), \n",
    "                    activation='sigmoid')\n",
    "      \n",
    "  lr = hp.Float('learning rate', min_value = 0.0005, max_value=0.0009, step = 0.0001)\n",
    "   opt_list = [\n",
    "      #Adam(learning_rate=lr),\n",
    "      #NovoGrad(learning_rate=lr),\n",
    "      AdamW(learning_rate=lr),\n",
    "      #Adagrad(learning_rate=lr),\n",
    "  ]\n",
    "  opt_number = hp.Int('optimizer', min_value=0, max_value=len(opt_list) - 1)\n",
    "\n",
    "  model.compile(\n",
    "      opt_list[opt_number],\n",
    "      loss=sm.losses.JaccardLoss(),\n",
    "      metrics=[sm.metrics.IOUScore()],\n",
    "  )\n",
    "  return model\n",
    "\n",
    "\n",
    "tuner = keras_tuner.BayesianOptimization(\n",
    "    build_model,\n",
    "    objective=keras_tuner.Objective(\"val_iou_score\", direction=\"max\"),\n",
    "    #overwrite=True,\n",
    "    max_trials=12,\n",
    "    #max_epochs=50,\n",
    "    )\n",
    "\n",
    "tuner.search_space_summary()\n",
    "\n",
    "tuner.search(\n",
    "    train_generator,\n",
    "    epochs=30,\n",
    "    steps_per_epoch = steps,\n",
    "    validation_data=val_generator,\n",
    "    validation_steps = val_steps,)\n",
    "\n",
    "\n",
    "tuner.results_summary()"
   ]
  },
  {
   "cell_type": "raw",
   "metadata": {
    "colab": {
     "base_uri": "https://localhost:8080/"
    },
    "executionInfo": {
     "elapsed": 4284,
     "status": "ok",
     "timestamp": 1681237986662,
     "user": {
      "displayName": "Aleksei Ivanchenko",
      "userId": "08170798653477468168"
     },
     "user_tz": -180
    },
    "id": "lZrPXnWMsKEk",
    "outputId": "100d5a51-0127-4b16-fc61-80b394b4a48f"
   },
   "source": [
    "# define model\n",
    "\n",
    "from keras.optimizers import Adam\n",
    "from tensorflow.keras.optimizers.experimental import AdamW\n",
    "from tensorflow_addons.optimizers import NovoGrad\n",
    "\n",
    "# сверточная основа\n",
    "BACKBONE = 'resnet50' \n",
    "\n",
    "# модель - Unet\n",
    "model = sm.Unet(BACKBONE,\n",
    "                classes = 1,\n",
    "                encoder_weights=None,\n",
    "                input_shape=(256, 256, channels), \n",
    "                activation='sigmoid',  )\n",
    "loss = sm.losses.JaccardLoss(class_weights=(10,))\n",
    "model.compile(\n",
    "    AdamW(learning_rate=0.0006),\n",
    "    loss=loss,\n",
    "    metrics=[sm.metrics.iou_score],\n",
    ")\n",
    "\n",
    "# callbacks\n",
    "from keras import callbacks\n",
    "callback_list = [\n",
    "    callbacks.EarlyStopping(\n",
    "        monitor = 'val_loss',\n",
    "        patience = 40,\n",
    "    ),\n",
    "    callbacks.ModelCheckpoint(\n",
    "        filepath = save_path,\n",
    "        monitor = 'val_iou_score',\n",
    "        mode='max',\n",
    "        save_best_only = True,\n",
    "    ),\n",
    "    callbacks.ReduceLROnPlateau(\n",
    "        monitor = 'val_loss',\n",
    "        factor = 0.1,\n",
    "        patience=30,\n",
    "    ),\n",
    "]\n",
    "\n",
    "# model.summary()"
   ]
  },
  {
   "cell_type": "raw",
   "metadata": {
    "colab": {
     "base_uri": "https://localhost:8080/",
     "height": 1000
    },
    "executionInfo": {
     "elapsed": 289815,
     "status": "ok",
     "timestamp": 1681238276474,
     "user": {
      "displayName": "Aleksei Ivanchenko",
      "userId": "08170798653477468168"
     },
     "user_tz": -180
    },
    "id": "Q4p-21A2sdVo",
    "outputId": "ef628757-bda9-4d7a-b7c4-b12753aee415"
   },
   "source": [
    "# fit model\n",
    "\n",
    "history = model.fit(\n",
    "   train_generator,\n",
    "   epochs=20,\n",
    "   steps_per_epoch = steps,\n",
    "   validation_data=val_generator,\n",
    "   validation_steps = val_steps,\n",
    "   batch_size = batch_size,\n",
    "   callbacks = callback_list,\n",
    ")\n",
    "\n",
    "# формирование графиков точности\n",
    "plt.clf()\n",
    "\n",
    "loss = history.history['loss']\n",
    "val_loss = history.history['val_loss']\n",
    "\n",
    "epochs = range(1, len(loss) + 1)\n",
    "acc = history.history['iou_score']\n",
    "val_acc = history.history['val_iou_score']\n",
    "\n",
    "plt.plot(epochs, acc, 'bo', label = 'Training iou_score')\n",
    "plt.plot(epochs, val_acc, 'b', label='Validation iou_score')\n",
    "plt.title('Training and validation iou_score')\n",
    "plt.xlabel('Epochs')\n",
    "plt.ylabel('iou_score')\n",
    "plt.legend()\n",
    "\n",
    "plt.show()"
   ]
  },
  {
   "cell_type": "raw",
   "metadata": {
    "id": "OoeGQ47SO2Hw"
   },
   "source": [
    "\n",
    "model = load_model(load_path, custom_objects)\n",
    "\n",
    "custom_objects={\"jaccard_loss\": sm.losses.JaccardLoss(class_weights=(10,)),\n",
    "                \"iou_score\": sm.metrics.iou_score}"
   ]
  },
  {
   "cell_type": "raw",
   "metadata": {
    "colab": {
     "base_uri": "https://localhost:8080/",
     "height": 415
    },
    "executionInfo": {
     "elapsed": 2282,
     "status": "error",
     "timestamp": 1682443020968,
     "user": {
      "displayName": "Aleksei Ivanchenko",
      "userId": "08170798653477468168"
     },
     "user_tz": -180
    },
    "id": "mj5jh7xe7DwO",
    "outputId": "2885e8ab-0663-4f36-e618-755d087af5ce"
   },
   "source": [
    "# Prediction\n",
    "from numpy import asarray\n",
    "from keras.models import load_model\n",
    "from PIL import Image\n",
    "import datetime\n",
    "\n",
    "from keras.optimizers import Adam\n",
    "from tensorflow.keras.optimizers.experimental import AdamW\n",
    "from tensorflow_addons.optimizers import NovoGrad\n",
    "\n",
    "# directory for saving images\n",
    "now = datetime.datetime.now()\n",
    "dir = os.path.join(saved_images, now.strftime('%H-%M-%S'))\n",
    "os.mkdir(dir)\n",
    "\n",
    "def save_rgb(img, name):\n",
    "  img *= 255\n",
    "  img = img.astype(np.uint8)\n",
    "  img = Image.fromarray(img)  \n",
    "  img.save(os.path.join(saved_images, dir, name))\n",
    "def save_grayscale(img, name):\n",
    "  img *= 255\n",
    "  img = img.astype(np.uint8)\n",
    "  if(len(img.shape) == 3):\n",
    "    img = img[:, :, 0]\n",
    "  img = Image.fromarray(img, 'L')\n",
    "  img.save(os.path.join(saved_images, dir, name))\n",
    "\n",
    "images, masks = next(val_generator)\n",
    "image, mask = images[1], masks[1]\n",
    "# cut image from hyperspectral to rgb\n",
    "image_rgb = image.transpose(2, 0, 1)\n",
    "image_rgb = np.array([image_rgb[4], image_rgb[2], image_rgb[1]]).transpose((1, 2, 0))\n",
    "\n",
    "\n",
    "fig=plt.figure()\n",
    "  \n",
    "plt.title('image')\n",
    "plt.imshow(image_rgb, interpolation='lanczos')\n",
    "plt.show()\n",
    "plt.title('mask')\n",
    "print(mask.shape)\n",
    "plt.imshow(mask, interpolation='lanczos')\n",
    "plt.show()\n",
    "\n",
    "save_rgb(image_rgb, 'image.png')\n",
    "save_grayscale(mask, 'mask.png')\n",
    "\n",
    "image = np.array(image)[np.newaxis, ...]\n",
    "predict = model.predict(image, verbose=0)[0]\n",
    "  \n",
    "plt.title('prediction')\n",
    "plt.imshow( tf.squeeze( predict ))\n",
    "plt.show()\n",
    "\n",
    "save_grayscale(predict, 'predict.png')"
   ]
  },
  {
   "cell_type": "raw",
   "metadata": {
    "colab": {
     "base_uri": "https://localhost:8080/",
     "height": 415
    },
    "executionInfo": {
     "elapsed": 580,
     "status": "error",
     "timestamp": 1682442197341,
     "user": {
      "displayName": "Aleksei Ivanchenko",
      "userId": "08170798653477468168"
     },
     "user_tz": -180
    },
    "id": "9OJ7hw8VFfpd",
    "outputId": "5a028b1a-4202-4620-cff1-231d22b6458d"
   },
   "source": [
    "# evaluation\n",
    "from keras.models import load_model\n",
    "\n",
    "print(model.metrics_names)\n",
    "model.evaluate(\n",
    "    val_generator,\n",
    "    batch_size=batch_size,\n",
    "    steps=val_steps,\n",
    ")"
   ]
  }
 ],
 "metadata": {
  "accelerator": "GPU",
  "colab": {
   "provenance": [
    {
     "file_id": "1hXp1Ct9CsIS6FsMxOn8MVfgPSBBDbllM",
     "timestamp": 1678530912989
    }
   ]
  },
  "gpuClass": "standard",
  "kernelspec": {
   "display_name": "Python 3 (ipykernel)",
   "language": "python",
   "name": "python3"
  },
  "language_info": {
   "codemirror_mode": {
    "name": "ipython",
    "version": 3
   },
   "file_extension": ".py",
   "mimetype": "text/x-python",
   "name": "python",
   "nbconvert_exporter": "python",
   "pygments_lexer": "ipython3",
   "version": "3.10.7"
  }
 },
 "nbformat": 4,
 "nbformat_minor": 1
}
